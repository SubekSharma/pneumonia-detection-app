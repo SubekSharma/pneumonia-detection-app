{
  "nbformat": 4,
  "nbformat_minor": 0,
  "metadata": {
    "colab": {
      "provenance": [],
      "gpuType": "T4"
    },
    "kernelspec": {
      "name": "python3",
      "display_name": "Python 3"
    },
    "language_info": {
      "name": "python"
    },
    "accelerator": "GPU"
  },
  "cells": [
    {
      "cell_type": "code",
      "source": [
        "from google.colab import drive\n",
        "drive.mount('/content/drive')"
      ],
      "metadata": {
        "id": "Hh3o8DAopllp",
        "colab": {
          "base_uri": "https://localhost:8080/"
        },
        "outputId": "f5274909-5da3-4e41-80c6-456152511703"
      },
      "execution_count": 2,
      "outputs": [
        {
          "output_type": "stream",
          "name": "stdout",
          "text": [
            "Mounted at /content/drive\n"
          ]
        }
      ]
    },
    {
      "cell_type": "code",
      "source": [
        "%cd /content/drive/MyDrive/pneumonia-dataset"
      ],
      "metadata": {
        "colab": {
          "base_uri": "https://localhost:8080/"
        },
        "id": "9cLbcBa-nw58",
        "outputId": "e6ca3d6c-c58f-4a0e-f94c-48d1820c6eb1"
      },
      "execution_count": 4,
      "outputs": [
        {
          "output_type": "stream",
          "name": "stdout",
          "text": [
            "/content/drive/MyDrive/pneumonia-dataset\n"
          ]
        }
      ]
    },
    {
      "cell_type": "code",
      "source": [
        "from IPython.display import Image, display\n",
        "import tensorflow as tf\n",
        "import matplotlib.pyplot as plt\n",
        "import numpy as np\n",
        "import os\n",
        "from tensorflow.keras.preprocessing.image import ImageDataGenerator\n",
        "from tensorflow.keras.applications import VGG16\n",
        "from tensorflow.keras import layers, models\n",
        "from tensorflow.keras.callbacks import ModelCheckpoint, CSVLogger, ReduceLROnPlateau, EarlyStopping, TensorBoard\n",
        "from tensorflow.keras.optimizers import Adam\n",
        "import cv2"
      ],
      "metadata": {
        "id": "4aMMsC5o830D"
      },
      "execution_count": 20,
      "outputs": []
    },
    {
      "cell_type": "code",
      "source": [
        "\"\"\" Global variables \"\"\"\n",
        "h = 224\n",
        "w = 224\n",
        "\n",
        "def create_dir(path):\n",
        "    if not os.path.exists(path):\n",
        "        os.makedirs(path)\n",
        "\n",
        "\"\"\"Directory to store files\"\"\"\n",
        "create_dir('file')\n",
        "\n",
        "\"\"\" Hyperparameters \"\"\"\n",
        "batch_size = 16\n",
        "lr = 1e-4\n",
        "num_epochs = 50\n",
        "model_path = os.path.join(\"files\", \"model.h5\")\n",
        "csv_path = os.path.join(\"files\", \"log.csv\")"
      ],
      "metadata": {
        "id": "gBBV2W4SDjDG"
      },
      "execution_count": 21,
      "outputs": []
    },
    {
      "cell_type": "code",
      "source": [
        "train_directory = '/content/drive/MyDrive/pneumonia-dataset/train'\n",
        "test_directory = '/content/drive/MyDrive/pneumonia-dataset/test'\n",
        "validation_directory = '/content/drive/MyDrive/pneumonia-dataset/val'\n",
        "\n",
        "train_datagen = ImageDataGenerator(rescale=1./255,\n",
        "                                   shear_range=0.2,\n",
        "                                   rotation_range=10,\n",
        "                                   width_shift_range=0.1,\n",
        "                                   height_shift_range=0.1,\n",
        "                                   zoom_range=0.2,\n",
        "                                   horizontal_flip=True)\n",
        "\n",
        "test_datagen = ImageDataGenerator(rescale=1./255)\n",
        "validation_datagen = ImageDataGenerator(rescale=1./255)\n",
        "\n",
        "train_generator = train_datagen.flow_from_directory(\n",
        "    train_directory,\n",
        "    target_size=(h, w),\n",
        "    batch_size=batch_size,\n",
        "    class_mode='binary',\n",
        "    shuffle=True\n",
        ")\n",
        "\n",
        "test_generator = test_datagen.flow_from_directory(\n",
        "    test_directory,\n",
        "    target_size=(h, w),\n",
        "    batch_size=batch_size,\n",
        "    class_mode='binary',\n",
        "    shuffle=False\n",
        ")\n",
        "\n",
        "validation_generator = validation_datagen.flow_from_directory(\n",
        "    validation_directory,\n",
        "    target_size=(h, w),\n",
        "    batch_size=batch_size,\n",
        "    class_mode='binary',\n",
        "    shuffle=False\n",
        ")\n",
        "\n",
        "base_model = VGG16(weights='imagenet', include_top=False, input_shape=(h, w, 3))\n",
        "\n",
        "model = models.Sequential()\n",
        "model.add(base_model)\n",
        "model.add(layers.GlobalAveragePooling2D())\n",
        "model.add(layers.Dense(256, activation='relu'))\n",
        "model.add(layers.Dropout(0.5))\n",
        "model.add(layers.Dense(1, activation='sigmoid'))\n",
        "\n",
        "\n",
        "callbacks = [\n",
        "        ModelCheckpoint(model_path, verbose=1, save_best_only=True),\n",
        "        ReduceLROnPlateau(monitor='val_loss', factor=0.1, patience=3, min_lr=1e-8, verbose=1),\n",
        "        CSVLogger(csv_path),\n",
        "        EarlyStopping(monitor='val_loss', patience=7, restore_best_weights=False),\n",
        "    ]\n",
        "\n",
        "\n",
        "\n",
        "model.compile(optimizer=Adam(lr), loss='binary_crossentropy', metrics=['accuracy'])\n",
        "model.summary()\n",
        "\n"
      ],
      "metadata": {
        "colab": {
          "base_uri": "https://localhost:8080/"
        },
        "id": "WaCvRzEmAsSD",
        "outputId": "fa31f96f-c314-43ee-965b-e36a3898792f"
      },
      "execution_count": 23,
      "outputs": [
        {
          "output_type": "stream",
          "name": "stdout",
          "text": [
            "Found 2000 images belonging to 2 classes.\n",
            "Found 400 images belonging to 2 classes.\n",
            "Found 400 images belonging to 2 classes.\n",
            "Model: \"sequential_3\"\n",
            "_________________________________________________________________\n",
            " Layer (type)                Output Shape              Param #   \n",
            "=================================================================\n",
            " vgg16 (Functional)          (None, 7, 7, 512)         14714688  \n",
            "                                                                 \n",
            " global_average_pooling2d_3  (None, 512)               0         \n",
            "  (GlobalAveragePooling2D)                                       \n",
            "                                                                 \n",
            " dense_6 (Dense)             (None, 256)               131328    \n",
            "                                                                 \n",
            " dropout_3 (Dropout)         (None, 256)               0         \n",
            "                                                                 \n",
            " dense_7 (Dense)             (None, 1)                 257       \n",
            "                                                                 \n",
            "=================================================================\n",
            "Total params: 14846273 (56.63 MB)\n",
            "Trainable params: 14846273 (56.63 MB)\n",
            "Non-trainable params: 0 (0.00 Byte)\n",
            "_________________________________________________________________\n"
          ]
        }
      ]
    },
    {
      "cell_type": "code",
      "source": [
        "history = model.fit(train_generator,\n",
        "                    epochs=50,\n",
        "                    validation_data=validation_generator,\n",
        "                    verbose=1,\n",
        "                    callbacks=callbacks)\n"
      ],
      "metadata": {
        "id": "_iMlhSRp3itz",
        "colab": {
          "base_uri": "https://localhost:8080/"
        },
        "outputId": "b7988091-8429-46b4-aef2-fc68620cdb42"
      },
      "execution_count": 24,
      "outputs": [
        {
          "output_type": "stream",
          "name": "stdout",
          "text": [
            "Epoch 1/50\n",
            "125/125 [==============================] - ETA: 0s - loss: 0.4389 - accuracy: 0.8095\n",
            "Epoch 1: val_loss improved from inf to 0.40139, saving model to files/model.h5\n"
          ]
        },
        {
          "output_type": "stream",
          "name": "stderr",
          "text": [
            "/usr/local/lib/python3.10/dist-packages/keras/src/engine/training.py:3103: UserWarning: You are saving your model as an HDF5 file via `model.save()`. This file format is considered legacy. We recommend using instead the native Keras format, e.g. `model.save('my_model.keras')`.\n",
            "  saving_api.save_model(\n"
          ]
        },
        {
          "output_type": "stream",
          "name": "stdout",
          "text": [
            "\b\b\b\b\b\b\b\b\b\b\b\b\b\b\b\b\b\b\b\b\b\b\b\b\b\b\b\b\b\b\b\b\b\b\b\b\b\b\b\b\b\b\b\b\b\b\b\b\b\b\b\b\b\b\b\b\b\b\b\b\b\b\b\b\b\b\b\b\b\b\b\b\b\b\b\b\b\b\b\b\b\b\b\b\r125/125 [==============================] - 76s 532ms/step - loss: 0.4389 - accuracy: 0.8095 - val_loss: 0.4014 - val_accuracy: 0.8375 - lr: 1.0000e-04\n",
            "Epoch 2/50\n",
            "125/125 [==============================] - ETA: 0s - loss: 0.2895 - accuracy: 0.8880\n",
            "Epoch 2: val_loss did not improve from 0.40139\n",
            "125/125 [==============================] - 70s 560ms/step - loss: 0.2895 - accuracy: 0.8880 - val_loss: 0.4263 - val_accuracy: 0.8400 - lr: 1.0000e-04\n",
            "Epoch 3/50\n",
            "125/125 [==============================] - ETA: 0s - loss: 0.2467 - accuracy: 0.9120\n",
            "Epoch 3: val_loss improved from 0.40139 to 0.34922, saving model to files/model.h5\n",
            "125/125 [==============================] - 68s 542ms/step - loss: 0.2467 - accuracy: 0.9120 - val_loss: 0.3492 - val_accuracy: 0.8725 - lr: 1.0000e-04\n",
            "Epoch 4/50\n",
            "125/125 [==============================] - ETA: 0s - loss: 0.1977 - accuracy: 0.9300\n",
            "Epoch 4: val_loss improved from 0.34922 to 0.31275, saving model to files/model.h5\n",
            "125/125 [==============================] - 70s 560ms/step - loss: 0.1977 - accuracy: 0.9300 - val_loss: 0.3128 - val_accuracy: 0.8475 - lr: 1.0000e-04\n",
            "Epoch 5/50\n",
            "125/125 [==============================] - ETA: 0s - loss: 0.1935 - accuracy: 0.9270\n",
            "Epoch 5: val_loss improved from 0.31275 to 0.31129, saving model to files/model.h5\n",
            "125/125 [==============================] - 72s 567ms/step - loss: 0.1935 - accuracy: 0.9270 - val_loss: 0.3113 - val_accuracy: 0.8900 - lr: 1.0000e-04\n",
            "Epoch 6/50\n",
            "125/125 [==============================] - ETA: 0s - loss: 0.1420 - accuracy: 0.9485\n",
            "Epoch 6: val_loss did not improve from 0.31129\n",
            "125/125 [==============================] - 67s 536ms/step - loss: 0.1420 - accuracy: 0.9485 - val_loss: 0.3474 - val_accuracy: 0.8950 - lr: 1.0000e-04\n",
            "Epoch 7/50\n",
            "125/125 [==============================] - ETA: 0s - loss: 0.1225 - accuracy: 0.9605\n",
            "Epoch 7: val_loss did not improve from 0.31129\n",
            "125/125 [==============================] - 67s 535ms/step - loss: 0.1225 - accuracy: 0.9605 - val_loss: 0.3348 - val_accuracy: 0.9025 - lr: 1.0000e-04\n",
            "Epoch 8/50\n",
            "125/125 [==============================] - ETA: 0s - loss: 0.1099 - accuracy: 0.9605\n",
            "Epoch 8: val_loss improved from 0.31129 to 0.30863, saving model to files/model.h5\n",
            "125/125 [==============================] - 71s 567ms/step - loss: 0.1099 - accuracy: 0.9605 - val_loss: 0.3086 - val_accuracy: 0.9025 - lr: 1.0000e-04\n",
            "Epoch 9/50\n",
            "125/125 [==============================] - ETA: 0s - loss: 0.1057 - accuracy: 0.9655\n",
            "Epoch 9: val_loss improved from 0.30863 to 0.30610, saving model to files/model.h5\n",
            "125/125 [==============================] - 71s 561ms/step - loss: 0.1057 - accuracy: 0.9655 - val_loss: 0.3061 - val_accuracy: 0.8775 - lr: 1.0000e-04\n",
            "Epoch 10/50\n",
            "125/125 [==============================] - ETA: 0s - loss: 0.1032 - accuracy: 0.9640\n",
            "Epoch 10: val_loss improved from 0.30610 to 0.25164, saving model to files/model.h5\n",
            "125/125 [==============================] - 69s 551ms/step - loss: 0.1032 - accuracy: 0.9640 - val_loss: 0.2516 - val_accuracy: 0.8900 - lr: 1.0000e-04\n",
            "Epoch 11/50\n",
            "125/125 [==============================] - ETA: 0s - loss: 0.1039 - accuracy: 0.9610\n",
            "Epoch 11: val_loss improved from 0.25164 to 0.24824, saving model to files/model.h5\n",
            "125/125 [==============================] - 71s 562ms/step - loss: 0.1039 - accuracy: 0.9610 - val_loss: 0.2482 - val_accuracy: 0.9025 - lr: 1.0000e-04\n",
            "Epoch 12/50\n",
            "125/125 [==============================] - ETA: 0s - loss: 0.1065 - accuracy: 0.9645\n",
            "Epoch 12: val_loss did not improve from 0.24824\n",
            "125/125 [==============================] - 67s 536ms/step - loss: 0.1065 - accuracy: 0.9645 - val_loss: 0.3008 - val_accuracy: 0.9100 - lr: 1.0000e-04\n",
            "Epoch 13/50\n",
            "125/125 [==============================] - ETA: 0s - loss: 0.0871 - accuracy: 0.9660\n",
            "Epoch 13: val_loss did not improve from 0.24824\n",
            "125/125 [==============================] - 69s 549ms/step - loss: 0.0871 - accuracy: 0.9660 - val_loss: 0.5075 - val_accuracy: 0.8925 - lr: 1.0000e-04\n",
            "Epoch 14/50\n",
            "125/125 [==============================] - ETA: 0s - loss: 0.1001 - accuracy: 0.9665\n",
            "Epoch 14: val_loss did not improve from 0.24824\n",
            "\n",
            "Epoch 14: ReduceLROnPlateau reducing learning rate to 9.999999747378752e-06.\n",
            "125/125 [==============================] - 66s 529ms/step - loss: 0.1001 - accuracy: 0.9665 - val_loss: 0.2910 - val_accuracy: 0.9150 - lr: 1.0000e-04\n",
            "Epoch 15/50\n",
            "125/125 [==============================] - ETA: 0s - loss: 0.0597 - accuracy: 0.9785\n",
            "Epoch 15: val_loss did not improve from 0.24824\n",
            "125/125 [==============================] - 67s 536ms/step - loss: 0.0597 - accuracy: 0.9785 - val_loss: 0.3128 - val_accuracy: 0.9175 - lr: 1.0000e-05\n",
            "Epoch 16/50\n",
            "125/125 [==============================] - ETA: 0s - loss: 0.0473 - accuracy: 0.9845\n",
            "Epoch 16: val_loss did not improve from 0.24824\n",
            "125/125 [==============================] - 68s 547ms/step - loss: 0.0473 - accuracy: 0.9845 - val_loss: 0.3067 - val_accuracy: 0.9225 - lr: 1.0000e-05\n",
            "Epoch 17/50\n",
            "125/125 [==============================] - ETA: 0s - loss: 0.0381 - accuracy: 0.9875\n",
            "Epoch 17: val_loss did not improve from 0.24824\n",
            "\n",
            "Epoch 17: ReduceLROnPlateau reducing learning rate to 9.999999747378752e-07.\n",
            "125/125 [==============================] - 68s 540ms/step - loss: 0.0381 - accuracy: 0.9875 - val_loss: 0.3370 - val_accuracy: 0.9150 - lr: 1.0000e-05\n",
            "Epoch 18/50\n",
            "125/125 [==============================] - ETA: 0s - loss: 0.0388 - accuracy: 0.9870\n",
            "Epoch 18: val_loss did not improve from 0.24824\n",
            "125/125 [==============================] - 66s 527ms/step - loss: 0.0388 - accuracy: 0.9870 - val_loss: 0.3389 - val_accuracy: 0.9075 - lr: 1.0000e-06\n"
          ]
        }
      ]
    },
    {
      "cell_type": "code",
      "source": [
        "test_loss, test_accuracy = model.evaluate(test_generator)\n",
        "print(f'Test accuracy: {test_accuracy}')"
      ],
      "metadata": {
        "colab": {
          "base_uri": "https://localhost:8080/"
        },
        "id": "ivjva7rb0Say",
        "outputId": "ae972a85-7bb3-4f50-f40f-9e9a3556309d"
      },
      "execution_count": 25,
      "outputs": [
        {
          "output_type": "stream",
          "name": "stdout",
          "text": [
            "25/25 [==============================] - 81s 3s/step - loss: 0.1208 - accuracy: 0.9600\n",
            "Test accuracy: 0.9599999785423279\n"
          ]
        }
      ]
    },
    {
      "cell_type": "code",
      "source": [
        "def processing(path):\n",
        "  img = cv2.imread(path)\n",
        "  img = cv2.cvtColor(img, cv2.COLOR_BGR2RGB)\n",
        "  img = cv2.resize(img, (w, h))\n",
        "  img = img / 255\n",
        "  img = np.expand_dims(img, axis=0)\n",
        "  return img\n"
      ],
      "metadata": {
        "id": "bD2o-_qqOXGl"
      },
      "execution_count": 66,
      "outputs": []
    },
    {
      "cell_type": "code",
      "source": [
        "test = \"/content/drive/MyDrive/pneumonia-dataset/test/NORMAL/test-normal_049.jpg\"\n",
        "x = model.predict(processing(test))\n",
        "x = np.squeeze(x, axis=0)\n",
        "x = 1 if x>.9 else 0\n",
        "x\n"
      ],
      "metadata": {
        "id": "K3qC-y0gQY51",
        "colab": {
          "base_uri": "https://localhost:8080/"
        },
        "outputId": "cb41ab16-b804-4625-86ec-f938b5c7857a"
      },
      "execution_count": 70,
      "outputs": [
        {
          "output_type": "stream",
          "name": "stdout",
          "text": [
            "1/1 [==============================] - 0s 50ms/step\n"
          ]
        },
        {
          "output_type": "execute_result",
          "data": {
            "text/plain": [
              "0"
            ]
          },
          "metadata": {},
          "execution_count": 70
        }
      ]
    },
    {
      "cell_type": "code",
      "source": [],
      "metadata": {
        "id": "fB_x5RSTuScE"
      },
      "execution_count": null,
      "outputs": []
    }
  ]
}